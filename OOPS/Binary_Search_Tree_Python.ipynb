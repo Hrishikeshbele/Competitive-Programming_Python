{
 "cells": [
  {
   "cell_type": "markdown",
   "metadata": {},
   "source": [
    " ##  Binary Search Tree\n",
    "- every child node on right must contain value greater than its parent node and left child  must contain value lesser than parent node\n",
    "- full bst: is a tree in which every node other than the leaf nodes has two children\n",
    "- complete bst: all levels of tree are filled except possibly last level and leaf nodes at last level are on left\n",
    "- balanced bst: if height of left and right subtree differ by no more than one for all nodes\n",
    "- insertion,deletion time complexity : O(log(n)) vs { O(n) for array }"
   ]
  },
  {
   "cell_type": "code",
   "execution_count": 1,
   "metadata": {},
   "outputs": [],
   "source": [
    "#node class consisting structure of node \n",
    "class node:\n",
    "    def __init__(self,val=None):\n",
    "        self.val=val\n",
    "        self.left=None\n",
    "        self.right=None\n",
    "        self.parent=None # pointer to parent node in tree\n",
    "#bst class consisting of various function on bst\n",
    "class bst:\n",
    "    def __init__(self):\n",
    "        self.root=None\n",
    "    #insert function to add elements to bst\n",
    "    def insert(self,val):\n",
    "        if self.root==None:\n",
    "            self.root=node(val)\n",
    "        else:\n",
    "            self._insert(val,self.root)\n",
    "    #private recursive helper function(_ in python indicates it is an private function: it's not accessible outside the class)\n",
    "    def _insert(self, val, curr_node):\n",
    "        if val<curr_node.val:\n",
    "            if not curr_node.left:\n",
    "                curr_node.left=node(val)\n",
    "                curr_node.left.parent=curr_node # set parent\n",
    "            else:\n",
    "                self._insert(val,curr_node.left)\n",
    "        elif val>curr_node.val:\n",
    "            if not curr_node.right:\n",
    "                curr_node.right=node(val)\n",
    "                curr_node.right.parent=curr_node # set parent\n",
    "            else:\n",
    "                self._insert(val,curr_node.right)\n",
    "        else: # val==curr_node val\n",
    "            print('value already in tree')\n",
    "    #print binary tree in inorder transversal       \n",
    "    def print_tree(self):\n",
    "        if self.root!=None:\n",
    "            self._print_tree(self.root)\n",
    "   \n",
    "    def _print_tree(self,cur_node):\n",
    "        if cur_node!=None:\n",
    "            self._print_tree(cur_node.left)\n",
    "            print(str(cur_node.val))\n",
    "            self._print_tree(cur_node.right)\n",
    "    # function to calculate height of bst\n",
    "    def height(self):\n",
    "        if self.root:\n",
    "            return self._height(self.root,0)\n",
    "        else:\n",
    "            return 0\n",
    "    def _height(self,curr_node,curr_height):\n",
    "        if not curr_node: return curr_height\n",
    "        left_height=self._height(curr_node.left,curr_height+1)\n",
    "        right_height=self._height(curr_node.right,curr_height+1)\n",
    "        return max(left_height,right_height)\n",
    "    # function to find if elm is present in bst\n",
    "    def search(self,val):\n",
    "        if self.root:\n",
    "            return self._search(val,self.root)\n",
    "        else:\n",
    "            return False\n",
    "    def _search(self,val,curr_node):\n",
    "        if curr_node.val==val:\n",
    "            True \n",
    "        elif val<curr_node.val and curr_node.left !=None:\n",
    "            return self._search(val,curr_node.left)\n",
    "        elif val>curr_node.val and curr_node.right:\n",
    "            return self._search(val,curr_node.right)\n",
    "        return False\n",
    "#function to insert numbers in binary tree\n",
    "def fill_tree(tree,num_elm=15,max_int=100):\n",
    "    from random import randint\n",
    "    for _ in range(num_elm):\n",
    "        curr_elm=randint(0,max_int)\n",
    "        tree.insert(curr_elm)\n",
    "    return tree   \n",
    "        "
   ]
  },
  {
   "cell_type": "code",
   "execution_count": 2,
   "metadata": {},
   "outputs": [
    {
     "name": "stdout",
     "output_type": "stream",
     "text": [
      "value already in tree\n",
      "6\n",
      "8\n",
      "12\n",
      "24\n",
      "28\n",
      "29\n",
      "30\n",
      "36\n",
      "51\n",
      "58\n",
      "69\n",
      "76\n",
      "95\n",
      "99\n"
     ]
    },
    {
     "data": {
      "text/plain": [
       "6"
      ]
     },
     "execution_count": 2,
     "metadata": {},
     "output_type": "execute_result"
    }
   ],
   "source": [
    "tree=bst()\n",
    "tree=fill_tree(tree)\n",
    "tree.print_tree()\n",
    "tree.height() "
   ]
  },
  {
   "cell_type": "code",
   "execution_count": 47,
   "metadata": {},
   "outputs": [],
   "source": []
  },
  {
   "cell_type": "markdown",
   "metadata": {},
   "source": [
    "## Different traversals\n",
    "- Pre-order traversal: Up > Down , \"Root->Left->Right\"\n",
    "- In-order traversal: Down > Up , \"Left->Root->Right\"\n",
    "- Post-order traversal: Down > Up , \"Left->Right->Root\"\n",
    "- Lever-orde traversal: UP > Down "
   ]
  },
  {
   "cell_type": "code",
   "execution_count": 3,
   "metadata": {},
   "outputs": [
    {
     "data": {
      "text/plain": [
       "[[1], [2, 3], [4, 5, 6, 7]]"
      ]
     },
     "execution_count": 3,
     "metadata": {},
     "output_type": "execute_result"
    }
   ],
   "source": [
    "class binary_tree():\n",
    "    def __init__(self,root):\n",
    "        self.root=node(root) #intialising using node class\n",
    "    def preorder(self,start,traversal):\n",
    "        if start:\n",
    "            traversal+=(str(start.val)+'-')\n",
    "            traversal=self.preorder(start.left,traversal)\n",
    "            traversal=self.preorder(start.right,traversal)\n",
    "        return traversal\n",
    "    def inorder(self,start,traversal):\n",
    "        if start:\n",
    "            traversal=self.inorder(start.left,traversal)\n",
    "            traversal+=(str(start.val)+'-')\n",
    "            traversal= self.inorder(start.right,traversal)\n",
    "        return traversal\n",
    "    def postorder(self,start,traversal):\n",
    "        if start:\n",
    "            traversal=self.inorder(start.left,traversal)\n",
    "            traversal= self.inorder(start.right,traversal)\n",
    "            traversal+=(str(start.val)+'-')\n",
    "        return traversal\n",
    "    def levelOrder(self, root):\n",
    "        queue=[]\n",
    "        ans=[]\n",
    "        if not root:\n",
    "            return root\n",
    "        #append root node in queue\n",
    "        queue.append(root)\n",
    "        while queue:\n",
    "            level=[]\n",
    "            for _ in range(len(queue)):\n",
    "                #taking elm from start of queue\n",
    "                node=queue.pop(0)\n",
    "                level.append(node.val)\n",
    "                if node.left:\n",
    "                    queue.append(node.left)\n",
    "                if node.right:\n",
    "                    queue.append(node.right)\n",
    "            ans.append(level)\n",
    "        return (ans)\n",
    "        \n",
    "#intialiasing tree values\n",
    "#               1\n",
    "#           /       \\  \n",
    "#          2          3  \n",
    "#         /  \\      /   \\\n",
    "#        4    5     6   7 \n",
    "\n",
    "# Set up tree:\n",
    "tree = binary_tree(1)\n",
    "tree.root.left = node(2)\n",
    "tree.root.right = node(3)\n",
    "tree.root.left.left = node(4)\n",
    "tree.root.left.right = node(5)\n",
    "tree.root.right.left = node(6)\n",
    "tree.root.right.right = node(7)\n",
    "#tree.preorder(tree.root,'')  #'1-2-4-5-3-6-7-'\n",
    "#tree.inorder(tree.root,'')   #'4-2-5-1-6-3-7-'\n",
    "#tree.postorder(tree.root,'')  #'4-2-5-6-3-7-1-'\n",
    "tree.levelOrder(tree.root)     # [[1], [2, 3], [4, 5, 6, 7]]"
   ]
  },
  {
   "cell_type": "code",
   "execution_count": null,
   "metadata": {},
   "outputs": [],
   "source": []
  }
 ],
 "metadata": {
  "kernelspec": {
   "display_name": "Python 3",
   "language": "python",
   "name": "python3"
  },
  "language_info": {
   "codemirror_mode": {
    "name": "ipython",
    "version": 3
   },
   "file_extension": ".py",
   "mimetype": "text/x-python",
   "name": "python",
   "nbconvert_exporter": "python",
   "pygments_lexer": "ipython3",
   "version": "3.7.3"
  }
 },
 "nbformat": 4,
 "nbformat_minor": 2
}
