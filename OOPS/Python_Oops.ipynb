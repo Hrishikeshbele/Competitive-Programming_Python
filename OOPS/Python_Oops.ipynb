{
  "nbformat": 4,
  "nbformat_minor": 0,
  "metadata": {
    "colab": {
      "name": "Python_Oops.ipynb",
      "provenance": [],
      "collapsed_sections": []
    },
    "kernelspec": {
      "name": "python3",
      "display_name": "Python 3"
    }
  },
  "cells": [
    {
      "cell_type": "markdown",
      "metadata": {
        "id": "hkKkXXBr36YD"
      },
      "source": [
        "# OOP in Python\r\n",
        "* each obj behave in same way but may have different state(diff var values) . \r\n",
        "\r\n",
        "* state: variables , behaviour : methods \r\n",
        "* data security due to encapsulation .  \r\n",
        "* adv of oops: code reusability \r\n",
        "* abstration : hiding  of internal working of complicated system from its user .\r\n",
        "* A class is a blueprint from which you can create the instance, i.e., objects.An object is the instance of the class, which helps programmers to use variables and methods from inside the class.Classes have logical existence.Objects have a physical existence."
      ]
    },
    {
      "cell_type": "code",
      "metadata": {
        "colab": {
          "base_uri": "https://localhost:8080/"
        },
        "id": "K3eUNaip-mRx",
        "outputId": "7d98be09-69c8-4f4a-b74d-9544ec6a402e"
      },
      "source": [
        "class Person: # python created class object and assign it to this name person when it is defined and executed. classes are also object in python and called as class objects.\r\n",
        "  pass\r\n",
        "print('adress of person class object:',id(Person)) #id is the object's memory address, and will be different for each time you run the program.The id is assigned to the object when it is created.\r\n",
        "\r\n",
        "# instance object from class\r\n",
        "p1 = Person() # object\r\n",
        "p2 = Person()\r\n",
        "\r\n",
        "print('data type of instance object p1 :',type(p1)) # object of type person \r\n",
        "print('data type of instance object p2 :',type(p2)) # object of type person\r\n",
        "\r\n",
        "print('adress of instance object p1 :',id(p1))\r\n",
        "print('adress of instance object p2 :',id(p2))\r\n",
        "# both object have different address . so they both are diff objects .\r\n"
      ],
      "execution_count": null,
      "outputs": [
        {
          "output_type": "stream",
          "text": [
            "adress of person class object: 53508696\n",
            "data type of instance object p1 : <class '__main__.Person'>\n",
            "data type of instance object p2 : <class '__main__.Person'>\n",
            "adress of instance object p1 : 140528986044232\n",
            "adress of instance object p2 : 140528986044176\n"
          ],
          "name": "stdout"
        }
      ]
    },
    {
      "cell_type": "markdown",
      "metadata": {
        "id": "hBa6Eb_7GyqY"
      },
      "source": [
        " **self** \r\n",
        "* python automatically sends value for the parameter self. value of self is instance that called the method.\r\n",
        "\r\n",
        "* to use instance var or another method inside another method we have to use prefix self."
      ]
    },
    {
      "cell_type": "code",
      "metadata": {
        "colab": {
          "base_uri": "https://localhost:8080/"
        },
        "id": "CgxywX3lGsd5",
        "outputId": "97228778-9bf2-41ac-d641-3117719f3875"
      },
      "source": [
        "class Person:\r\n",
        "  def display(self):\r\n",
        "    print('I am a person',self)\r\n",
        "  def greet(self):\r\n",
        "    print('Hello, how are you doing?',self)\r\n",
        "\r\n",
        "# instance object from class\r\n",
        "p1 = Person() # object\r\n",
        "p2 = Person()\r\n",
        "\r\n",
        "print(p1.display()) # instance \r\n",
        "print(p1.greet())\r\n",
        "print(p2.display())\r\n",
        "print(p2.greet())"
      ],
      "execution_count": null,
      "outputs": [
        {
          "output_type": "stream",
          "text": [
            "I am a person <__main__.Person object at 0x7fcf74450da0>\n",
            "None\n",
            "Hello, how are you doing? <__main__.Person object at 0x7fcf74450da0>\n",
            "None\n",
            "I am a person <__main__.Person object at 0x7fcf74450f28>\n",
            "None\n",
            "Hello, how are you doing? <__main__.Person object at 0x7fcf74450f28>\n",
            "None\n"
          ],
          "name": "stdout"
        }
      ]
    },
    {
      "cell_type": "markdown",
      "metadata": {
        "id": "mxV5MANk8bRL"
      },
      "source": [
        "\r\n",
        "\r\n",
        "**instance variables** \r\n",
        "* are specific to an instance of the class . every instance has its own copy of instance variables. changing value for one instance doesn't affect value in other instance .  is called instance variable because it is attached to pert instance .\r\n",
        "* instance variables can be created inside any method, by assigning to variable name prefixed with  self. ex. self.x= val\r\n",
        "* instance define state of pert obj. \r\n",
        "\r\n"
      ]
    },
    {
      "cell_type": "code",
      "metadata": {
        "colab": {
          "base_uri": "https://localhost:8080/"
        },
        "id": "hk6ZZgB23eVF",
        "outputId": "5139d107-f64e-4e50-f7c0-f524c0fc7fd8"
      },
      "source": [
        "class Person:\r\n",
        "  #instance variable\r\n",
        "  def set_details(self,name,age):\r\n",
        "    self.name = name\r\n",
        "    self.age = age\r\n",
        "    sex='male' # this is local variable . can be used withing the funtion only.\r\n",
        "  def display(self):\r\n",
        "    print('I am a person', self)\r\n",
        "  def greet(self):\r\n",
        "    print('Hi, how are you doing ? ', self)\r\n",
        "\r\n",
        "# instance object from class\r\n",
        "p1 = Person() # object\r\n",
        "p2 = Person()\r\n",
        "\r\n",
        "p1.set_details('bob',20)\r\n",
        "p2.set_details('ted',30)\r\n",
        "print(p1.name)\r\n",
        "print(p2.name)\r\n",
        "p2.name ='Jack'\r\n",
        "print(p1.name) # you can see assigning jack to p2 objects doesn't affects its val for other objs.\r\n",
        "print(p2.name)"
      ],
      "execution_count": null,
      "outputs": [
        {
          "output_type": "stream",
          "text": [
            "bob\n",
            "ted\n",
            "bob\n",
            "Jack\n"
          ],
          "name": "stdout"
        }
      ]
    },
    {
      "cell_type": "markdown",
      "metadata": {
        "id": "r3GaKNiHYD1a"
      },
      "source": [
        "**Practice Exercise -1**\r\n",
        "\r\n",
        "\r\n",
        "\r\n",
        "\r\n"
      ]
    },
    {
      "cell_type": "code",
      "metadata": {
        "colab": {
          "base_uri": "https://localhost:8080/"
        },
        "id": "xa5YHsAZMMko",
        "outputId": "d272e223-6fc4-415e-a0f5-62dc1a49de05"
      },
      "source": [
        "'''\r\n",
        "Make a class that represents a bank account. Create four methods named set_details, display, withdraw and deposit.In the set_details method, create two instance variables : name and balance. \r\n",
        "The default value for balance should be zero. In the display method, display the values of these two instance variables.Both the methods withdraw and deposit have amount as parameter. \r\n",
        "Inside withdraw, subtract the amount from balance and inside deposit, add the amount to the balance.Create two instances of this class and call the methods on those instances.\r\n",
        "'''\r\n",
        "class BankAccount:\r\n",
        "  def set_details(self,name,balance=0):\r\n",
        "    self.name=name\r\n",
        "    self.balance=balance\r\n",
        "\r\n",
        "  def display(self):\r\n",
        "    print(self.name,self.balance)\r\n",
        "\r\n",
        "  def withdraw(self,balance):\r\n",
        "    self.balance-=balance\r\n",
        "    \r\n",
        "  def deposit(self,balance):\r\n",
        "    self.balance+=balance\r\n",
        "\r\n",
        "a1 = BankAccount()\r\n",
        "a1.set_details('Mike', 200)\r\n",
        " \r\n",
        "a2 = BankAccount()\r\n",
        "a2.set_details('Tom')\r\n",
        " \r\n",
        "a1.display()\r\n",
        "a2.display()\r\n",
        " \r\n",
        "a1.withdraw(100)\r\n",
        "a2.deposit(500)\r\n",
        " \r\n",
        "a1.display()\r\n",
        "a2.display()\r\n"
      ],
      "execution_count": null,
      "outputs": [
        {
          "output_type": "stream",
          "text": [
            "Mike 200\n",
            "Tom 0\n",
            "Mike 100\n",
            "Tom 500\n"
          ],
          "name": "stdout"
        }
      ]
    },
    {
      "cell_type": "markdown",
      "metadata": {
        "id": "OU8KkNDFdAqb"
      },
      "source": [
        "**init :** \r\n",
        "* this method will be automatically and firstly called after instance object is created .  used for initialise instace variable .\r\n",
        "* we can also perform any other startup tasks in this method . like  opening file, setting up network, connecting to database.\r\n",
        "* init is not consturctor in python because by the time this method is called the instance object is already constructed . it is initializer method.you can have only one itializer method in python.\r\n",
        "* it doesn't create the instance object but it initializes already created instance object. self par passed to this method refers to the newly created obj."
      ]
    },
    {
      "cell_type": "markdown",
      "metadata": {
        "id": "oD4o_x2Y0YHI"
      },
      "source": [
        "**Encapsulation :**\r\n",
        "1. private variables and methods can only be accessed inside class while public variables and methods can be accessed from outside class as well. \r\n",
        "2. users of class are generally called clients. clients uses class instantiating it i.e by creating its objects .\r\n",
        "3. why encapsulation req ? : these var, methods are used in internal working of class. they are not required by user. ex. in car you have access to steering and breaks, you don't have access to all internal parts of that make your car stop and move.these internal details are best left to creator of car.if you get access you may damage something .\r\n",
        "4. part that is visible to user is called interface of class and other hidden part is called implementation . interface generally doesn't change with time while implementation might change.  \r\n",
        "5. ways to do encapsulation : _ or __ before var and methods . if we use __ python mangel the names of these atributes and methods internally . \r\n",
        "6. _ and __ at the start of a variable/property name indicate that the property is supposed to be \"protected\" or \"private\" respectively and should not be touched by code outside the same class/module.\r\n",
        "7. in python everything is public. although  _ indicate var or methods in non public , it can be accessed outside class also. programmer should respect convection . \r\n",
        "8. single trailing underscore is used to avoid name clashes with python build in names. ex. class_ , range_\r\n",
        "\r\n"
      ]
    },
    {
      "cell_type": "code",
      "metadata": {
        "colab": {
          "base_uri": "https://localhost:8080/"
        },
        "id": "fITZtPfpNlkE",
        "outputId": "9b54d1b5-f702-4b36-f3d0-91e80a7fc804"
      },
      "source": [
        "class Product:\r\n",
        "  def __init__(self):\r\n",
        "    self.data1 = 10\r\n",
        "    self._data2 = 20\r\n",
        "  def methodA(self):\r\n",
        "    pass\r\n",
        "  def _methodB(self):\r\n",
        "    pass\r\n",
        "p = Product()\r\n",
        "print(p.data1)\r\n",
        "p.methodA()\r\n",
        "print(p._data2) # we can access _data2 outside class also . \r\n",
        "p._methodB()"
      ],
      "execution_count": null,
      "outputs": [
        {
          "output_type": "stream",
          "text": [
            "10\n",
            "20\n"
          ],
          "name": "stdout"
        }
      ]
    },
    {
      "cell_type": "code",
      "metadata": {
        "colab": {
          "base_uri": "https://localhost:8080/"
        },
        "id": "JSd0D8BXOPje",
        "outputId": "c8137328-896e-4926-d6bf-d49404bf5b18"
      },
      "source": [
        "class Product:\r\n",
        "  def __init__(self):\r\n",
        "    self.data1 = 10\r\n",
        "    self.__data2 = 20\r\n",
        "  def methodA(self):\r\n",
        "    pass\r\n",
        "  def __methodB(self):\r\n",
        "    pass\r\n",
        "p = Product()\r\n",
        "#print(p.__data2)  # this will give error :  'Product' object has no attribute '__data2'\r\n",
        "#p.__methodB()    # error : 'Product' object has no attribute '__methodB'\r\n",
        "print(p._Product__data2) # python internally changes name of __data2 for internal work with _class-name__data2 .\r\n",
        "p._Product__methodB()"
      ],
      "execution_count": null,
      "outputs": [
        {
          "output_type": "stream",
          "text": [
            "20\n"
          ],
          "name": "stdout"
        }
      ]
    },
    {
      "cell_type": "markdown",
      "metadata": {
        "id": "zWkJ4YCuMVLc"
      },
      "source": [
        "**@property** \r\n",
        "\r\n",
        "* it is decorator . if you decorate  a method with @property , method can be accessed like a instance  variable. we are basically creating new attribute named as method name internally.  (getter method) . we generaly make use of private attribute here (_atr-name) .\r\n",
        "* when we assign some value to created atribute, @method_name.setter method is get called. (setter method) . if we don't provide setter method then we can't change methods val so it will become read only attribute. \r\n",
        "\r\n"
      ]
    },
    {
      "cell_type": "code",
      "metadata": {
        "colab": {
          "base_uri": "https://localhost:8080/"
        },
        "id": "wmXYe7VlZ-f-",
        "outputId": "241b9669-aabe-4804-b278-626bf2d8f59f"
      },
      "source": [
        "class Product:\r\n",
        "  def __init__(self,x,y):\r\n",
        "    self._x = x\r\n",
        "    self._y = y\r\n",
        "  def display(self):\r\n",
        "    print(self._x, self._y)\r\n",
        "\r\n",
        "  @property\r\n",
        "  def value(self):\r\n",
        "    return self._x\r\n",
        "\r\n",
        "  @value.setter\r\n",
        "  def value(self, val):\r\n",
        "    self._x = val\r\n",
        "\r\n",
        "  @property\r\n",
        "  def y(self):\r\n",
        "    return self._y\r\n",
        "\r\n",
        "  @y.setter\r\n",
        "  def y(self, val):\r\n",
        "    self._y = val\r\n",
        "\r\n",
        "p = Product(12,24)\r\n",
        "print(p.value) # accessing property value method .\r\n",
        "print(p.value + 2)\r\n",
        "print(dir(Product))\r\n",
        "p.value = 10\r\n",
        "p.value = 20\r\n",
        "print(p.y)\r\n",
        "p.y = 12"
      ],
      "execution_count": null,
      "outputs": [
        {
          "output_type": "stream",
          "text": [
            "12\n",
            "14\n",
            "['__class__', '__delattr__', '__dict__', '__dir__', '__doc__', '__eq__', '__format__', '__ge__', '__getattribute__', '__gt__', '__hash__', '__init__', '__init_subclass__', '__le__', '__lt__', '__module__', '__ne__', '__new__', '__reduce__', '__reduce_ex__', '__repr__', '__setattr__', '__sizeof__', '__str__', '__subclasshook__', '__weakref__', 'display', 'value', 'y']\n",
            "24\n"
          ],
          "name": "stdout"
        }
      ]
    },
    {
      "cell_type": "markdown",
      "metadata": {
        "id": "KxL1Dz3VYAI2"
      },
      "source": [
        "\r\n",
        "**Practice Exercise - 2**\r\n",
        "\r\n",
        "\r\n"
      ]
    },
    {
      "cell_type": "code",
      "metadata": {
        "colab": {
          "base_uri": "https://localhost:8080/"
        },
        "id": "CmPrhw2xcWka",
        "outputId": "35419f25-03cb-420e-b442-02534686fcbb"
      },
      "source": [
        "'''\r\n",
        "1) Create a class named Book with an __init__ method. Inside the __init__ method, create the instance variables isbn, title, author, publisher, pages, price, copies. Create these four instance objects from this class.\r\n",
        "2) For the Book class that you have created, write a method named in_stock that returns True if number of copies is more than zero, otherwise it returns False. Create another method named sell that decreases the number\r\n",
        " of copies by 1 if the book is in stock, otherwise it prints the message that the book is out of stock.\r\n",
        " 3) Create a list named books that contains the 4 Book instance objects that you have created in question 2. Iterate over this list using a for loop and call display() for each object in the list. Write a list comprehension \r\n",
        " to create another list that contains title of books written by Jack. In the Book class, create a property named price such that the price of a book cannot be less than 50 or more than 1000.\r\n",
        "'''\r\n",
        "\r\n",
        "class Book:\r\n",
        "  def __init__(self,isbn, title, author, publisher, pages, price, copies):\r\n",
        "    self.isbn=isbn\r\n",
        "    self.title=title\r\n",
        "    self.author=author\r\n",
        "    self.publisher=publisher\r\n",
        "    self.pages=pages\r\n",
        "    self.price=price\r\n",
        "    self.copies=copies\r\n",
        "\r\n",
        "  def display(self):\r\n",
        "    print(self.isbn, self.title, self.author, self.publisher, self.pages, self.price, self.copies)\r\n",
        "\r\n",
        "  def in_stock(self):\r\n",
        "    if self.copies>0:\r\n",
        "      return True\r\n",
        "    else:\r\n",
        "      return False\r\n",
        "\r\n",
        "  def sell(self):\r\n",
        "    if self.in_stock():\r\n",
        "      self.copies-=1\r\n",
        "    else:\r\n",
        "      print('the book is out of stock.')\r\n",
        "\r\n",
        "  @property\r\n",
        "  def price(self):\r\n",
        "    return self._price\r\n",
        "  @price.setter\r\n",
        "  def price(self,new_price):\r\n",
        "    if 50<=new_price<=1000:\r\n",
        "      self._price=new_price\r\n",
        "    else:\r\n",
        "      raise ValueError ('Price cannot be less than 10 or more than 500')\r\n",
        "\r\n",
        "book1 = Book('957-4-36-547417-1', 'Learn Physics','Stephen', 'CBC', 350, 200,10)\r\n",
        "book2 = Book('652-6-86-748413-3', 'Learn Chemistry','Jack', 'CBC', 400, 220,20)\r\n",
        "book3 = Book('957-7-39-347216-2', 'Learn Maths','John', 'XYZ', 500, 300,5)\r\n",
        "book4 = Book('957-7-39-347216-2', 'Learn Biology','Jack', 'XYZ', 400, 200,6)\r\n",
        "\r\n",
        "objs=[book1,book2,book3,book4]\r\n",
        "\r\n",
        "book_name=[]\r\n",
        "for obj in objs:\r\n",
        "  obj.display()\r\n",
        "  if obj.author=='Jack':\r\n",
        "    book_name.append(obj.title)\r\n",
        "\r\n",
        "print(book_name)"
      ],
      "execution_count": null,
      "outputs": [
        {
          "output_type": "stream",
          "text": [
            "957-4-36-547417-1 Learn Physics Stephen CBC 350 200 10\n",
            "652-6-86-748413-3 Learn Chemistry Jack CBC 400 220 20\n",
            "957-7-39-347216-2 Learn Maths John XYZ 500 300 5\n",
            "957-7-39-347216-2 Learn Biology Jack XYZ 400 200 6\n",
            "['Learn Chemistry', 'Learn Biology']\n"
          ],
          "name": "stdout"
        }
      ]
    },
    {
      "cell_type": "code",
      "metadata": {
        "id": "MHbjZtohibf8",
        "colab": {
          "base_uri": "https://localhost:8080/"
        },
        "outputId": "68578e9a-e64d-4cea-dd9b-9b6834be8b0d"
      },
      "source": [
        "'''\r\n",
        "4)Make a class Fraction that contains two instance variables, nr and dr (nr stands for numerator and dr for denominator). Define an __init__ method that provides values for these instance variables. Make the denominator optional by providing a default argument of 1.\r\n",
        "In the __init__ method, make the denominator positive if it is negative. For example  -2/-3 should be changed to 2/3 and 2/-3 to -2/3.Write a method named show that prints numerator, then '/' and then the denominator.\r\n",
        "\r\n",
        "5) Define a method named multiply that multiples two Fraction instance objects. For multiplying two fractions, you have to multiply the numerator with numerator and denominator with the denominator.\r\n",
        "Inside the method, create a new instance object that is the product of the two fractions and return it. Similarly define a method named add to add two Fraction instance objects. \r\n",
        "'''\r\n",
        "class Fraction:\r\n",
        "  def __init__(self,nr,dr=1):\r\n",
        "    self.nr=nr\r\n",
        "    self.dr=dr\r\n",
        "    if self.dr<0:\r\n",
        "      self.dr*=-1\r\n",
        "      self.nr*=-1\r\n",
        "\r\n",
        "  def show(self):\r\n",
        "    print(f'{self.nr}/{+self.dr}')\r\n",
        "\r\n",
        "  def multiply(self,f1):\r\n",
        "    if isinstance(f1,int): # Return whether an object(f1) is an instance of a class (int) .\r\n",
        "        f1=Fraction(f1)\r\n",
        "    return Fraction(self.nr*f1.nr , self.dr*f1.dr)\r\n",
        "\r\n",
        "  def add(self,f1):\r\n",
        "    if isinstance(f1,int): # Return whether an object(f1) is an instance of a class (int) .\r\n",
        "        f1=Fraction(f1)\r\n",
        "    return Fraction(self.nr*f1.dr+f1.nr*self.dr,self.dr*f1.dr)\r\n",
        "    \r\n",
        "f1 = Fraction(2,3)\r\n",
        "f1.show()\r\n",
        "f2 = Fraction(3,4)\r\n",
        "f2.show()\r\n",
        "f3 = f1.multiply(f2)\r\n",
        "f3.show()\r\n",
        "f3 = f1.add(f2)\r\n",
        "f3.show()\r\n",
        "f3 = f1.add(5) \r\n",
        "f3.show()\r\n",
        "f3 = f1.multiply(5) \r\n",
        "f3.show()"
      ],
      "execution_count": null,
      "outputs": [
        {
          "output_type": "stream",
          "text": [
            "2/3\n",
            "3/4\n",
            "6/12\n",
            "17/12\n",
            "17/3\n",
            "10/3\n"
          ],
          "name": "stdout"
        }
      ]
    },
    {
      "cell_type": "code",
      "metadata": {
        "id": "Ojmx5ln2l4Uj",
        "colab": {
          "base_uri": "https://localhost:8080/"
        },
        "outputId": "bdfe14c7-bab3-4a99-f3e5-ecf011b56892"
      },
      "source": [
        "'''\r\n",
        "6) For class Product, create a read only property named selling_price that is calculated by deducting discount from the marked_price. The instance variable discount represents discount in percent.   \r\n",
        "7) Suppose after some time, you want to give an additional 2% discount on a product, if its price is above 500. To incorporate this change, implement discount as a property in your Product class.\r\n",
        "'''\r\n",
        "\r\n",
        "class Product:\r\n",
        "    def __init__(self, id, marked_price, discount):\r\n",
        "        self.id = id\r\n",
        "        self.marked_price = marked_price\r\n",
        "        self.discount = discount\r\n",
        "    \r\n",
        "    def display(self):\r\n",
        "        print(self.id,  self.marked_price,  self.discount)\r\n",
        "\r\n",
        "    @property\r\n",
        "    def selling_price(self):\r\n",
        "        return self.marked_price - 0.01 * self.discount * self.marked_price\r\n",
        "\r\n",
        "    @property\r\n",
        "    def discount(self):\r\n",
        "      if self.marked_price>500:\r\n",
        "        return self._discount+2\r\n",
        "      else:\r\n",
        "        return self._discount\r\n",
        "\r\n",
        "    @discount.setter\r\n",
        "    def discount(self,new_discount):\r\n",
        "      self._discount=new_discount\r\n",
        "      \r\n",
        "\r\n",
        "\r\n",
        "    \r\n",
        "p1 = Product('X879', 400, 6)\r\n",
        "p2 = Product('A234', 100, 5)\r\n",
        "p3 = Product('B987', 990, 4)\r\n",
        "p4 = Product('H456', 800, 6)\r\n",
        "\r\n",
        "print(p1.id, p1.selling_price)\r\n",
        "print(p2.id, p2.selling_price)\r\n",
        "print(p3.id, p3.selling_price)\r\n",
        "print(p4.id, p4.selling_price)\r\n",
        " \r\n",
        "p4.discount = 10\r\n",
        "print(p4.id, p4.selling_price)   "
      ],
      "execution_count": null,
      "outputs": [
        {
          "output_type": "stream",
          "text": [
            "X879 376.0\n",
            "A234 95.0\n",
            "B987 930.6\n",
            "H456 736.0\n",
            "H456 704.0\n"
          ],
          "name": "stdout"
        }
      ]
    },
    {
      "cell_type": "code",
      "metadata": {
        "id": "8pwXb8oNm54R",
        "colab": {
          "base_uri": "https://localhost:8080/"
        },
        "outputId": "be9f3a79-a91f-4a09-adc8-290f18723456"
      },
      "source": [
        "'''\r\n",
        "8) Write a Circle class with an instance variable named radius and a method named area. Create two more attributes named diameter and circumference and make them behave as read only attributes. \r\n",
        "Perform data validation on radius, user should not be allowed to assign a negative value to it.\r\n",
        "'''\r\n",
        "\r\n",
        "class circle:\r\n",
        "\r\n",
        "  def __init__(self,radius):\r\n",
        "    self.radius=radius\r\n",
        "    \r\n",
        "\r\n",
        "  @property\r\n",
        "  def radius(self):\r\n",
        "    return self._radius\r\n",
        "\r\n",
        "  @radius.setter\r\n",
        "  def radius(self, new_radius):\r\n",
        "      if new_radius > 0:\r\n",
        "          self._radius = new_radius\r\n",
        "      else:\r\n",
        "          raise ValueError('Radius should be positive')\r\n",
        "\r\n",
        "  @property\r\n",
        "  def diameter(self):\r\n",
        "      return self._radius * 2\r\n",
        "\r\n",
        "  @property\r\n",
        "  def circumference(self):\r\n",
        "      return 2 * 3.14 * self._radius\r\n",
        "\r\n",
        "  def area(self):\r\n",
        "      return 3.14 * self._radius * self._radius\r\n",
        " \r\n",
        "c1 = circle(7)\r\n",
        "print( c1.radius, c1.diameter, c1.circumference, c1.area() )\r\n"
      ],
      "execution_count": null,
      "outputs": [
        {
          "output_type": "stream",
          "text": [
            "7 14 43.96 153.86\n"
          ],
          "name": "stdout"
        }
      ]
    },
    {
      "cell_type": "markdown",
      "metadata": {
        "id": "z8NKlnyZiPuQ"
      },
      "source": [
        "**Class Variable :**\r\n",
        "* variable that is assigned at class level i.e outside any method. \r\n",
        "* class variable is shared by all instances of class. it belongs to class not to individual instance objects . \r\n",
        "* data of class varible is stored in class itself while data of instance variable is stored in individaual instance objects  . \r\n",
        "* class variable can be accessed using class name(class-name.var-name) or instance name(instance-name.var-name) outside class and with class name inside class . instance variables can't be accessed with class name . \r\n",
        "* if we have class and instance varible with same name then we can access class variable with class name . instance obj will first check if there is any instance variable with given name in a class since there is one in our case its value will be returned . \r\n",
        "* if you want to change val of class var do it with class name (ex. car.engine='new' ) .if you do it with instance then instance will create in instance var to store this updated val and actual val will remain unchanged. "
      ]
    },
    {
      "cell_type": "code",
      "metadata": {
        "colab": {
          "base_uri": "https://localhost:8080/"
        },
        "id": "VK3A7SduJbeD",
        "outputId": "a0b6c586-74e0-4d09-809e-4c82e4c7e18c"
      },
      "source": [
        "class Person:\r\n",
        "  species = 'Homo sapiens'\r\n",
        "  def __init__(self,name,age):\r\n",
        "    self.name = name\r\n",
        "    self.age = age\r\n",
        "  def display(self):\r\n",
        "    print(f'{self.name} is {self.age} years old')\r\n",
        "\r\n",
        "p1 = Person('John',20)\r\n",
        "p2 = Person('Jack',34)\r\n",
        "p1.display()\r\n",
        "p2.display()\r\n",
        "print(Person.species) # class var can be acessed with class name or instance name\r\n",
        "print(p1.species)\r\n",
        "print(p2.species)\r\n",
        "#print(Person.name) this will give error since we can't access instance var with class name . \r\n",
        "print(id(p1.species)) # you can see both 3 have same adress\r\n",
        "print(id(p2.species))\r\n",
        "print(id(Person.species))"
      ],
      "execution_count": null,
      "outputs": [
        {
          "output_type": "stream",
          "text": [
            "John is 20 years old\n",
            "Jack is 34 years old\n",
            "Homo sapiens\n",
            "Homo sapiens\n",
            "Homo sapiens\n",
            "140002414317616\n",
            "140002414317616\n",
            "140002414317616\n"
          ],
          "name": "stdout"
        }
      ]
    },
    {
      "cell_type": "markdown",
      "metadata": {
        "id": "ukytxY4RqMLC"
      },
      "source": [
        "**Diffeent types Methods**\r\n",
        "\r\n",
        "* method which are directly associated with class rather than perticular instance of class. to make method class method you need to add @classmethod at top of that method. \r\n",
        "* class method also have special first parameter i.e cls .  \r\n",
        "* this method can be accessed with class name or instance name. \r\n",
        "* class method can only access and work with class variables . it can't access instance variables as it doesn't have self parameter .\r\n",
        "\r\n"
      ]
    },
    {
      "cell_type": "code",
      "metadata": {
        "colab": {
          "base_uri": "https://localhost:8080/"
        },
        "id": "B4TIKxmqqLVR",
        "outputId": "9f8ed461-076f-4bc3-ff28-8b15d20e29f1"
      },
      "source": [
        "class MyClass():\r\n",
        "  a = 5\r\n",
        "  def __init__(self, x):\r\n",
        "    self._x = x\r\n",
        "\r\n",
        "  def method1(self):  # instance method \r\n",
        "    print(self.x)\r\n",
        "\r\n",
        "  @classmethod\r\n",
        "  def method2(cls):  # class method\r\n",
        "    print(cls.a)\r\n",
        "\r\n",
        "MyClass.method2()"
      ],
      "execution_count": null,
      "outputs": [
        {
          "output_type": "stream",
          "text": [
            "5\n"
          ],
          "name": "stdout"
        }
      ]
    },
    {
      "cell_type": "code",
      "metadata": {
        "colab": {
          "base_uri": "https://localhost:8080/"
        },
        "id": "mCXX-85prHyE",
        "outputId": "3519b7a7-0f9a-4a33-811e-f46869fff8ad"
      },
      "source": [
        "# we can use class method to handle different kind of user input. for example below we want create instance objects from input string as well as dict for that we can use class methods. \r\n",
        "class Person:\r\n",
        "  def __init__(self,name,age):\r\n",
        "    self.name = name\r\n",
        "    self.age = age\r\n",
        "  @classmethod\r\n",
        "  def from_str(cls,s): # take input from str and create instance obj having name and age.\r\n",
        "    name,age = s.split(',')\r\n",
        "    return cls(name, int(age))\r\n",
        "  @classmethod\r\n",
        "  def from_dict(cls,d):\r\n",
        "    return cls( d['name'], d['age'] ) # take input from dict and create instance obj having name and age.\r\n",
        "  def display(self):\r\n",
        "    print('I am', self.name, self.age, 'years old')\r\n",
        "    \r\n",
        "p1 = Person('John', 20)\r\n",
        "p2 = Person('Jim', 35)\r\n",
        "s = 'Jack, 23' # str input \r\n",
        "d = {'name': 'Jane', 'age':34} # dict input \r\n",
        "p3 = Person.from_str(s)\r\n",
        "p3.display()\r\n",
        "p4 = Person.from_dict(d)\r\n",
        "p4.display()"
      ],
      "execution_count": null,
      "outputs": [
        {
          "output_type": "stream",
          "text": [
            "I am Jack 23 years old\n",
            "I am Jane 34 years old\n"
          ],
          "name": "stdout"
        }
      ]
    },
    {
      "cell_type": "markdown",
      "metadata": {
        "id": "lE2DWU0YxdtI"
      },
      "source": [
        "**static method** \r\n",
        "\r\n",
        "* we have to use decorator @staticmethod to create static methods.\r\n",
        "* unlike class and instance method it doesn't have any special first parameter\r\n",
        "* can't access instace or class vars so it depends only on its input args values . \r\n",
        "* generally used as helper method containg some  logic ralated to class . "
      ]
    },
    {
      "cell_type": "code",
      "metadata": {
        "id": "qKxCOK9vwOhH"
      },
      "source": [
        "class MyClass():\r\n",
        "  a = 5\r\n",
        "  def __init__(self, x):\r\n",
        "    self.x = x\r\n",
        "\r\n",
        "  def method1(self):\r\n",
        "    print(self.x)\r\n",
        "\r\n",
        "  @classmethod\r\n",
        "  def method2(cls):\r\n",
        "    print(cls.a)\r\n",
        "\r\n",
        "  @staticmethod\r\n",
        "  def method3(m,n):\r\n",
        "    return m+n"
      ],
      "execution_count": null,
      "outputs": []
    },
    {
      "cell_type": "markdown",
      "metadata": {
        "id": "jOqOp5ydBbHY"
      },
      "source": [
        "**Magic Methods**\r\n",
        "* we create magic methods to become able to add or multipy two objects using +,- operators. by defining these magic methods , you can specify what should happen when instance object of your class are used with python operators and built-in functions. \r\n",
        "* begin and end with double underscore (__) . sometimes called dunder methods . \r\n",
        "* ex. __ init __ , __ add __ , __ sub __  , __ abs __ , __ len __\r\n",
        "* they are called magic methods since they are runned automatically when instance obj is used . these special methods are used to overload operators or  built in methods (ex. + : when int add, when str concatenate) .  "
      ]
    },
    {
      "cell_type": "code",
      "metadata": {
        "colab": {
          "base_uri": "https://localhost:8080/"
        },
        "id": "AyqEMJ9WDw1-",
        "outputId": "db73ece9-2582-48a7-ea3e-656c85720db0"
      },
      "source": [
        "class Fraction:\r\n",
        "  def __init__(self,nr,dr=1):\r\n",
        "    self.nr = nr\r\n",
        "    self.dr = dr\r\n",
        "    if self.dr < 0:\r\n",
        "      self.nr *= -1\r\n",
        "      self.dr *= -1\r\n",
        "    self._reduce()\r\n",
        "\r\n",
        "  def show(self):\r\n",
        "    print(f'{self.nr}/{self.dr}')\r\n",
        "\r\n",
        "  def __add__(self,other):\r\n",
        "    if isinstance(other,int):\r\n",
        "      other = Fraction(other)\r\n",
        "    f = Fraction(self.nr * other.dr + other.nr * self.dr, self.dr * other.dr)\r\n",
        "    f._reduce()\r\n",
        "    return f\r\n",
        "\r\n",
        "  def __mul__(self,other):\r\n",
        "    if isinstance(other,int):\r\n",
        "      other = Fraction(other)\r\n",
        "    f = Fraction(self.nr * other.nr , self.dr * other.dr)\r\n",
        "    f._reduce()\r\n",
        "    return f\r\n",
        "  \r\n",
        "  def _reduce(self): # reducing fraction to its lowest form by diving numerator and denominator by their hcm.\r\n",
        "    h = Fraction.hcf(self.nr, self.dr)\r\n",
        "    if h == 0:\r\n",
        "      return\r\n",
        "    self.nr //= h\r\n",
        "    self.dr //= h\r\n",
        "\r\n",
        "  @staticmethod\r\n",
        "  def hcf(x,y):\r\n",
        "    x=abs(x)\r\n",
        "    y=abs(y)\r\n",
        "    smaller = y if x>y else x\r\n",
        "    s = smaller\r\n",
        "    while s>0:\r\n",
        "      if x%s==0 and y%s==0:\r\n",
        "        break\r\n",
        "      s-=1\r\n",
        "    return s\r\n",
        "\r\n",
        "f1 = Fraction(2,3)\r\n",
        "f2 = Fraction(3,4)\r\n",
        "f3 = f1+f2 # add 2 fractions using python operators by using magic methods \r\n",
        "f3.show()\r\n",
        "f3 = f1*f2 # multiply 2 fractions using python operators \r\n",
        "f3.show()"
      ],
      "execution_count": null,
      "outputs": [
        {
          "output_type": "stream",
          "text": [
            "17/12\n",
            "1/2\n"
          ],
          "name": "stdout"
        }
      ]
    },
    {
      "cell_type": "markdown",
      "metadata": {
        "id": "SicAPNGAEg46"
      },
      "source": [
        "**Inheritance** \r\n",
        "\r\n",
        "\r\n",
        "*  mechanism of creating new class from existing class.new class is modified and extended version of existing class. child class has access to everything in parent class and it can add variables and methods of its own . \r\n",
        "*  main advantages of inheritance are code reusablity and being able to represent system using hierarchy of classes. \r\n",
        "* every class in python inherites from class called 'object' . ex. class_name , int ,str ,etc..  \r\n",
        "* When you add the __init__() function to child class , the child class will no longer inherit the parent's __init__() function.The child's __init__() function overrides the inheritance of the parent's __init__() function.To keep the inheritance of the parent's __init__() function, we call to the parent's __init__() function in childs init() fn.\r\n",
        "* in method overriding you can call parents class method explicitely by parents class name . \r\n",
        "* we use super() to call parents class methods . \r\n",
        "\r\n",
        "* when we have method with same name as parents class method then child class method will override parents class method . \r\n",
        "\r\n",
        "* if we call method on child class instance object then python will first check if method of that name exist in child class. if yes, then it will execute that and stop , if no then python will search for that method in parent classes."
      ]
    },
    {
      "cell_type": "code",
      "metadata": {
        "id": "rZfQ8pM_FiN9"
      },
      "source": [
        "class Person:\r\n",
        "  def __init__(self, name, age, address, phone):\r\n",
        "    self.name = name\r\n",
        "    self.age = age\r\n",
        "    self.address = address\r\n",
        "    self.phone = phone\r\n",
        "  def greet(self):\r\n",
        "    print('Hello I am', self.name)\r\n",
        "  def is_adult(self):\r\n",
        "    if self.age > 18:\r\n",
        "      return True\r\n",
        "    else:\r\n",
        "      return False\r\n",
        "  def contact_details(self):\r\n",
        "    print(self.address, self.phone)\r\n",
        "\r\n",
        "class Employee(Person):\r\n",
        "  def __init__(self, name, age, address, phone, salary, office_address, office_phone): # overiding ex\r\n",
        "    super().__init__(name, age, address, phone) #  initialsing parents class attributes \r\n",
        "    self.salary = salary\r\n",
        "    self.office_address = office_address\r\n",
        "    self.office_phone = office_phone\r\n",
        "  def calculate_tax(self):\r\n",
        "    if self.salary < 5000:\r\n",
        "      return 0\r\n",
        "    else:\r\n",
        "      return self.salary * 0.05 \r\n",
        "  def contact_details(self): # overiding ex\r\n",
        "    super().contact_details()  # will search for contact_details method in parents class .if found execute it and stop. \r\n",
        "    print(self.office_address, self.office_phone)\r\n",
        "emp = Employee('Jack', 30, 'D4, XYZ Street', '994477291', 8000, 'ABC Street', '384923993')\r\n",
        "emp.contact_details()"
      ],
      "execution_count": null,
      "outputs": []
    },
    {
      "cell_type": "markdown",
      "metadata": {
        "id": "PKxvyfwllply"
      },
      "source": [
        "**Multiple Inheritance** \r\n",
        "\r\n",
        "* here child class can inherite from more than one parents class . \r\n",
        "* while searching for method or attribute in multiple parents classes search is performed from left to right . \r\n",
        "* MRO ( method resolution order): order in which python searches for attributes and methods in parents classes. proposed to resolve conflict while searching for attributes in multiple base classes . python uses c3 linearization algorithm to compute MRO . \r\n",
        "* builtin fn super() uses MRO for serching attributes and methods. \r\n",
        "* it is advisable to use super() to call methods of parents class in both single and multiple inheritance because it will work even if parent class name is changed or any other update. "
      ]
    },
    {
      "cell_type": "markdown",
      "metadata": {
        "id": "e1-GLVtwpOsy"
      },
      "source": [
        "**Polymorphism** \r\n",
        "\r\n",
        "* it is abiity of code to take different forms depending on type with which it is used. it will give different output based on input type it is called upon.\r\n",
        "* Polymorphism is the process to define different body (behaviour) for functions/methods with same name in different classes .**Overloading** is a type of polymorphism .\r\n",
        "* advantage : 1. you can write generic code that can work with objects of diff classes. 2. code is easy to update . you can add new types ."
      ]
    },
    {
      "cell_type": "code",
      "metadata": {
        "colab": {
          "base_uri": "https://localhost:8080/"
        },
        "id": "-TT-HF1loo8x",
        "outputId": "46d2b47c-adb2-4a9d-dfab-e80a871e30bf"
      },
      "source": [
        "class Car:\r\n",
        "  def start(self):\r\n",
        "    print('Engine started')\r\n",
        "  def move(self):\r\n",
        "    print('Car is running')\r\n",
        "  def stop(self):\r\n",
        "    print('Brakes applied')\r\n",
        "class Clock:\r\n",
        "  def move(self):\r\n",
        "    print('Tick Tick Tick')\r\n",
        "  def stop(self):\r\n",
        "    print('Clock needles stopped')\r\n",
        "  \r\n",
        "class Person:\r\n",
        "  def move(self):\r\n",
        "    print('Person walking')\r\n",
        "  def stop(self):\r\n",
        "    print('Taking rest')\r\n",
        "  def talk(self):\r\n",
        "    print('Hello')\r\n",
        "car = Car()\r\n",
        "clock = Clock()\r\n",
        "person = Person()\r\n",
        "\r\n",
        "def do_something(x): # any object that support move and stop methods can be sent to this fn and fn will give diffent output based on obj they are passed.\r\n",
        "  x.move()           # this is polymorphism . while exicuting code pythond doesn't care about type of x but about object behaviour (method it support ).\r\n",
        "  x.stop()\r\n",
        "do_something(car)\r\n",
        "do_something(clock)\r\n",
        "do_something(person)"
      ],
      "execution_count": null,
      "outputs": [
        {
          "output_type": "stream",
          "text": [
            "Car is running\n",
            "Brakes applied\n",
            "Tick Tick Tick\n",
            "Clock needles stopped\n",
            "Person walking\n",
            "Taking rest\n"
          ],
          "name": "stdout"
        }
      ]
    },
    {
      "cell_type": "markdown",
      "metadata": {
        "id": "P73M6FLP4UHv"
      },
      "source": [
        "**Practice Exercise - 3**\r\n"
      ]
    },
    {
      "cell_type": "code",
      "metadata": {
        "id": "irgnhFHZ3JUg",
        "colab": {
          "base_uri": "https://localhost:8080/"
        },
        "outputId": "749733a1-a8a9-49d0-f042-7121625c2312"
      },
      "source": [
        "'''\r\n",
        "1. Create a class named Course that has instance variables title, instructor, price, lectures, users(list type), ratings, avg_rating. Implement the methods \r\n",
        "__str__, new_user_enrolled, received_a_rating and show_details. From the above class, inherit two classes VideoCourse and PdfCourse. The class VideoCourse has \r\n",
        "instance variable length_video and PdfCourse has instance variable pages.\r\n",
        "'''\r\n",
        "\r\n",
        "class Course:\r\n",
        "  def __init__(self,title, instructor, price, lectures):\r\n",
        "    self.title=title\r\n",
        "    self.instructor=instructor\r\n",
        "    self.price=price\r\n",
        "    self.lectures=lectures\r\n",
        "    self.users=[]\r\n",
        "    self.ratings= 0\r\n",
        "    self.avg_rating= 0\r\n",
        "\r\n",
        "  def __str__(self): \r\n",
        "    return f'{self.title} by {self.instructor}' \r\n",
        "\r\n",
        "  def new_user_enrolled(self,user):\r\n",
        "    self.users.append(user)\r\n",
        "\r\n",
        "  def received_a_rating(self,new_rating):\r\n",
        "    self.avg_rating = (self.avg_rating * self.ratings + new_rating)/(self.ratings + 1)\r\n",
        "    self.ratings += 1\r\n",
        "  \r\n",
        "  def show_details(self):\r\n",
        "    print('Course Title : ', self.title)\r\n",
        "    print('Intructor : ', self.instructor)\r\n",
        "    print('Price : ', self.price)\r\n",
        "    print('Number of Lectures : ', self.lectures)\r\n",
        "    print('Users : ', self.users)\r\n",
        "    print('Average rating : ', self.avg_rating)\r\n",
        "\r\n",
        "class VideoCourse(Course):\r\n",
        "  def __init__(self,title,instructor,lectures,price,length_video):\r\n",
        "    super().__init__(title,instructor,lectures,price)\r\n",
        "    self.length_video = length_video\r\n",
        "\r\n",
        "  def show_details(self):\r\n",
        "        super().show_details()\r\n",
        "        print('Video Length : ',  self.length_video)\r\n",
        "\r\n",
        "class PdfCourse(Course):\r\n",
        "  def __init__(self,title,instructor,lectures,price,pages):\r\n",
        "        super().__init__(title,instructor,lectures,price)\r\n",
        "        self.pages = pages\r\n",
        " \r\n",
        "  def show_details(self):\r\n",
        "      super().show_details()\r\n",
        "      print('Number of pages : ',  self.pages)\r\n",
        "\r\n",
        "vc = VideoCourse('Learn C++', 'Jack', 30, 50, 10)\r\n",
        "vc.new_user_enrolled('Allen')\r\n",
        "vc.new_user_enrolled('Max')\r\n",
        "vc.new_user_enrolled('Tom')\r\n",
        "vc.received_a_rating(3)\r\n",
        "vc.received_a_rating(4)\r\n",
        "vc.show_details()\r\n",
        " \r\n",
        "print()\r\n",
        " \r\n",
        "pc = PdfCourse('Learn Java', 'Jim', 35, 50, 1000)\r\n",
        "pc.new_user_enrolled('Allen')\r\n",
        "pc.new_user_enrolled('Mary')\r\n",
        "pc.new_user_enrolled('JIm')\r\n",
        "pc.received_a_rating(5)\r\n",
        "pc.received_a_rating(4)\r\n",
        "pc.show_details()\r\n"
      ],
      "execution_count": null,
      "outputs": [
        {
          "output_type": "stream",
          "text": [
            "Course Title :  Learn C++\n",
            "Intructor :  Jack\n",
            "Price :  30\n",
            "Number of Lectures :  50\n",
            "Users :  ['Allen', 'Max', 'Tom']\n",
            "Average rating :  3.5\n",
            "Video Length :  10\n",
            "\n",
            "Course Title :  Learn Java\n",
            "Intructor :  Jim\n",
            "Price :  35\n",
            "Number of Lectures :  50\n",
            "Users :  ['Allen', 'Mary', 'JIm']\n",
            "Average rating :  4.5\n",
            "Number of pages :  1000\n"
          ],
          "name": "stdout"
        }
      ]
    },
    {
      "cell_type": "code",
      "metadata": {
        "id": "inXe1HUiARZQ"
      },
      "source": [
        ""
      ],
      "execution_count": null,
      "outputs": []
    }
  ]
}