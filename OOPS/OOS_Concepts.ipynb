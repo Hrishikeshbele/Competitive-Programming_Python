{
 "cells": [
  {
   "cell_type": "markdown",
   "metadata": {},
   "source": [
    "- object has attribute(variables)(data in init) and behaviour( functions with self)(methods)\n",
    "- class is design of object(blueprint)\n",
    "- instances are objects\n",
    "- self: pointing to self\n",
    "- every obj will be stored at diff memory location\n",
    "- instance var:can be diff for diff objs of same class(ex.var in init) , class/static var:same for perticular class. can be accessed as : car.wheel\n",
    "- print(obj) will print adress of obj not values of obj"
   ]
  },
  {
   "cell_type": "code",
   "execution_count": 11,
   "metadata": {},
   "outputs": [
    {
     "name": "stdout",
     "output_type": "stream",
     "text": [
      "maximum speed: 150\n",
      "farari india\n",
      "None\n",
      "maximum speed: 220\n",
      "farari india\n",
      "None\n",
      "<class '__main__.car'>\n",
      "4\n",
      "hii car class here form abc module\n",
      "toyota japan\n"
     ]
    }
   ],
   "source": [
    "class car:\n",
    "    #class var\n",
    "    wheel=4\n",
    "    #1.attributes\n",
    "    #special methods\n",
    "    #initialise your data while creating instance.it will be getting  called automatically while def instances(objs)\n",
    "    def __init__(self,yr,speed):\n",
    "        self.yr=yr\n",
    "        self.speed=speed\n",
    "        #creating obj on inner class\n",
    "        self.veh=self.vehicle('farari','india')\n",
    "    #2.instant methods(it is also ex of instant  method: deals with instant vars)\n",
    "    def getspeed(self):\n",
    "        print('maximum speed:', self.speed)\n",
    "        #accessing var of inner class inside clas\n",
    "        print(self.veh.show())\n",
    "    #modifying template initialised data\n",
    "    def alterspeed(self,speed):\n",
    "        self.speed=speed\n",
    "    #3.class method(we use cls insted of self here)(you should mention @classmethod(decorator) before def class method)\n",
    "    @classmethod\n",
    "    def info(cls):\n",
    "        print(cls.wheel)\n",
    "    #4.static method(nothing to do with class or instant var)\n",
    "    @staticmethod\n",
    "    def static():\n",
    "        print('hii car class here form abc module')\n",
    "    #inner class (class inside class)\n",
    "    class vehicle:\n",
    "        def __init__(self,brand,manf):\n",
    "            self.brand=brand\n",
    "            self.manf=manf\n",
    "        def show(self):\n",
    "            print(self.brand,self.manf)\n",
    "#instance of class:putting pointer to car class\n",
    "bmw=car(2010,150)\n",
    "ford=car(2018,230)\n",
    "'''\n",
    "you can't access getspeed directly like: car.getspeed() it will throw error about missing arg because same class can have\n",
    "diff obj's which may have diff i/t data. so we need to specify obj name for which we want to call getspeed method like:\n",
    "car.getspeed(bmw) or using bmw obj directly like below\n",
    "'''\n",
    "bmw.getspeed()\n",
    "bmw.alterspeed(220)\n",
    "#or we can change the variable value like: bmw.yr=2014\n",
    "bmw.yr=2014\n",
    "bmw.getspeed()\n",
    "#class of bmw obj is car(defined by us) unlike inbuild classes like. str,int\n",
    "print(type(bmw))\n",
    "#calling class methods\n",
    "bmw.info()\n",
    "#calling static mehthod\n",
    "bmw.static()\n",
    "#accessing var inside inner class\n",
    "bmw.veh.brand\n",
    "#creatin instance to inner class\n",
    "veh1=bmw.veh #inside car class\n",
    "veh2=car.vehicle('toyota','japan') #outside car class\n",
    "veh2.show()"
   ]
  },
  {
   "cell_type": "markdown",
   "metadata": {},
   "source": [
    "## Inheritence\n",
    "- is mechanism for new class to use methods from previos classes\n",
    "- when we create instance of child class it will first find init(constructor) of child class only if not present then it will call init of parents class.also we can call init of parest class exclusively by using super.__init__ and same can be applied to methods also."
   ]
  },
  {
   "cell_type": "code",
   "execution_count": 13,
   "metadata": {},
   "outputs": [
    {
     "name": "stdout",
     "output_type": "stream",
     "text": [
      "maximum speed: 220\n",
      "123\n",
      "maximum speed: 127\n"
     ]
    }
   ],
   "source": [
    "#suv is child class of car(to use feature of both suv and car class)\n",
    "#(multiple inheritence): to inherite from a and b parents classes: suv(a,b)\n",
    "#(multilevel inheritence)- inheriting child class of some parent class : b(a) -> c(b)\n",
    "class suv(car):\n",
    "    def accelerate(self):\n",
    "        print('123')\n",
    "    def startcar(self):\n",
    "        print('car has been started')\n",
    "SUV=suv(2018,127)\n",
    "bmw.getspeed()\n",
    "SUV.accelerate()\n",
    "#we are using below function from car class and data from suv class instance\n",
    "SUV.getspeed()"
   ]
  },
  {
   "cell_type": "markdown",
   "metadata": {},
   "source": [
    "## Polymorphism\n",
    "- using same function in multiple ways.one thing which will behave in diff ways.\n",
    "- 4 way of implementing polymorphism:duck typing,operator overloading,method overlapping,method overriding"
   ]
  },
  {
   "cell_type": "code",
   "execution_count": 13,
   "metadata": {},
   "outputs": [
    {
     "name": "stdout",
     "output_type": "stream",
     "text": [
      "run code\n",
      "debug\n",
      "debug and run\n",
      "flexible\n"
     ]
    }
   ],
   "source": [
    "#1.duck typing: diff classes having same method name then we can use resp class objs to execute behavior we want \n",
    "class pycharm:\n",
    "    def execute(self):\n",
    "        print('run code')\n",
    "        print('debug')\n",
    "class spyder:\n",
    "    def execute(self):\n",
    "        print('debug and run')\n",
    "        print('flexible')\n",
    "class programer:\n",
    "    def code(self,ide):\n",
    "        #comman execute method in both classes\n",
    "        ide.execute()\n",
    "ide1=pycharm()\n",
    "ide2=spyder()\n",
    "prog=programer()\n",
    "prog.code(ide1)\n",
    "prog.code(ide2)"
   ]
  },
  {
   "cell_type": "code",
   "execution_count": 19,
   "metadata": {},
   "outputs": [
    {
     "name": "stdout",
     "output_type": "stream",
     "text": [
      "46\n",
      "s1 is winning\n"
     ]
    }
   ],
   "source": [
    "#2. operator overlaoding: if we directly use operants(+,-,>) with objects it will throw error so to use these operants\n",
    "# we need to define special methods within class.every time we are using operant we are calling pert special method defined in that class.\n",
    "class student:\n",
    "    def __init__(self,m1,m2):\n",
    "        self.m1=m1\n",
    "        self.m2=m2\n",
    "    def __add__(self,other):\n",
    "        m1=self.m1+other.m1\n",
    "        m2=other.m2+self.m2\n",
    "        s3=student(m1,m2)\n",
    "        return s3\n",
    "    #greater than\n",
    "    def __gt__(self,other):\n",
    "        s1=self.m1+self.m2\n",
    "        s2=other.m1+other.m2\n",
    "        if s1>s2:\n",
    "            return True\n",
    "            \n",
    "        else:\n",
    "            return False\n",
    "            \n",
    "s1=student(25,29)\n",
    "s2=student(21,18)\n",
    "s3=s1+s2\n",
    "print(s3.m1)\n",
    "\n",
    "if s1>s2:\n",
    "    print('s1 is winning')\n",
    "else:\n",
    "    print('s2 is winning')\n",
    "        \n",
    "    "
   ]
  },
  {
   "cell_type": "code",
   "execution_count": null,
   "metadata": {},
   "outputs": [],
   "source": [
    "#3.method overlaoding:in perticulat class if we have same method with same name but diff arguments.(python dont have this concept)\n",
    "#4.method overriding: methods with same name same args but in diff class like child parents."
   ]
  }
 ],
 "metadata": {
  "kernelspec": {
   "display_name": "Python 3",
   "language": "python",
   "name": "python3"
  },
  "language_info": {
   "codemirror_mode": {
    "name": "ipython",
    "version": 3
   },
   "file_extension": ".py",
   "mimetype": "text/x-python",
   "name": "python",
   "nbconvert_exporter": "python",
   "pygments_lexer": "ipython3",
   "version": "3.7.3"
  }
 },
 "nbformat": 4,
 "nbformat_minor": 2
}
